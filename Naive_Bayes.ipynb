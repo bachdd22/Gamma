{
  "cells": [
    {
      "cell_type": "code",
      "execution_count": 1,
      "metadata": {
        "id": "k4H30w3C7Agp"
      },
      "outputs": [],
      "source": [
        "# import tensorflow as tf\n",
        "import pandas as pd\n",
        "from nltk.tokenize import word_tokenize"
      ]
    },
    {
      "cell_type": "code",
      "execution_count": 2,
      "metadata": {
        "id": "_1MucethCk4c"
      },
      "outputs": [],
      "source": [
        "from nltk.classify import NaiveBayesClassifier"
      ]
    },
    {
      "cell_type": "code",
      "execution_count": 3,
      "metadata": {
        "id": "CnbMMxRQC5yK"
      },
      "outputs": [],
      "source": [
        "df = pd.read_csv(\"movie_reviews.csv\")"
      ]
    },
    {
      "cell_type": "code",
      "execution_count": 4,
      "metadata": {
        "id": "qQpWBomGESG-"
      },
      "outputs": [],
      "source": [
        "trains, tests = list(), list()"
      ]
    },
    {
      "cell_type": "code",
      "execution_count": 5,
      "metadata": {
        "id": "6XjMnc6EC5UG"
      },
      "outputs": [],
      "source": [
        "for index, row in df.iterrows():\n",
        "  if row[\"label\"] == 0:\n",
        "    trains.append((row[\"text\"], \"neg\"))\n",
        "  else:\n",
        "    trains.append((row[\"text\"], \"pos\"))"
      ]
    },
    {
      "cell_type": "code",
      "execution_count": 6,
      "metadata": {
        "id": "hS7iI0WH5nlM"
      },
      "outputs": [],
      "source": [
        "t = list()\n",
        "for review in trains:\n",
        "  words = word_tokenize(review[0])\n",
        "  feature = dict()\n",
        "  for word in words:\n",
        "    feature[word] = True\n",
        "  t.append((feature, review[1]))\n"
      ]
    },
    {
      "cell_type": "code",
      "execution_count": 7,
      "metadata": {
        "id": "YQscRsLfH0s-"
      },
      "outputs": [],
      "source": [
        "def features_dict(comment):\n",
        "  words = word_tokenize(comment)\n",
        "  feature = dict()\n",
        "  for word in words:\n",
        "    feature[word] = True\n",
        "  return feature"
      ]
    },
    {
      "cell_type": "code",
      "execution_count": 8,
      "metadata": {
        "id": "DOEm7qwW8UL5"
      },
      "outputs": [],
      "source": [
        "df_test = pd.read_csv(\"test_data.csv\")\n"
      ]
    },
    {
      "cell_type": "code",
      "execution_count": 9,
      "metadata": {
        "id": "tEuz3UKOIW_Y"
      },
      "outputs": [],
      "source": [
        "cl = NaiveBayesClassifier.train(t)"
      ]
    },
    {
      "cell_type": "code",
      "execution_count": 10,
      "metadata": {
        "id": "jPz_OelSI1x2"
      },
      "outputs": [],
      "source": [
        "results = list()\n",
        "for index, row in df_test.iterrows():\n",
        "  results.append(cl.classify(features_dict(row[\"text\"])))"
      ]
    },
    {
      "cell_type": "code",
      "execution_count": 11,
      "metadata": {
        "id": "VzuvuJ8qKPij"
      },
      "outputs": [],
      "source": [
        "predict = [1 if result == \"pos\" else 0 for result in results]"
      ]
    },
    {
      "cell_type": "code",
      "execution_count": 12,
      "metadata": {
        "id": "FltwMwBmJ0oT"
      },
      "outputs": [],
      "source": [
        "df_test[\"pred\"] = predict\n"
      ]
    },
    {
      "cell_type": "code",
      "execution_count": 118,
      "metadata": {
        "id": "ywTB7WsjMQwD"
      },
      "outputs": [],
      "source": [
        "df_test[\"pred\"].to_csv(\"predictions.csv\", index=True)"
      ]
    }
  ],
  "metadata": {
    "accelerator": "GPU",
    "colab": {
      "gpuType": "T4",
      "provenance": []
    },
    "kernelspec": {
      "display_name": "Python 3",
      "name": "python3"
    },
    "language_info": {
      "codemirror_mode": {
        "name": "ipython",
        "version": 3
      },
      "file_extension": ".py",
      "mimetype": "text/x-python",
      "name": "python",
      "nbconvert_exporter": "python",
      "pygments_lexer": "ipython3",
      "version": "3.11.4"
    }
  },
  "nbformat": 4,
  "nbformat_minor": 0
}
