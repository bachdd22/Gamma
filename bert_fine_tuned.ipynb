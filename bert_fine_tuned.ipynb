{
 "cells": [
  {
   "cell_type": "code",
   "execution_count": null,
   "metadata": {},
   "outputs": [],
   "source": [
    "from transformers import AutoTokenizer"
   ]
  },
  {
   "cell_type": "code",
   "execution_count": null,
   "metadata": {},
   "outputs": [],
   "source": [
    "tokenizer = AutoTokenizer.from_pretrained(\"bert-base-cased\")"
   ]
  },
  {
   "cell_type": "code",
   "execution_count": 4,
   "metadata": {},
   "outputs": [
    {
     "name": "stdout",
     "output_type": "stream",
     "text": [
      "{'input_ids': [101, 1457, 9014, 27202, 1348, 3952, 1146, 1104, 26632, 1200, 22302, 1116, 4887, 1677, 1603, 1112, 3155, 5936, 144, 1200, 7729, 5159, 1847, 3180, 18056, 6359, 8947, 2665, 1105, 1107, 1864, 1103, 2072, 2641, 1132, 5733, 15445, 21372, 1162, 13948, 170, 8346, 1105, 1451, 9592, 1413, 1110, 1218, 22821, 1174, 1109, 14908, 1141, 12119, 1116, 1435, 1120, 170, 2698, 6418, 1105, 1593, 1451, 1141, 4887, 3596, 1112, 170, 25714, 1174, 17291, 1109, 2696, 2849, 1178, 8681, 1106, 1103, 11920, 4165, 1115, 3741, 1107, 1105, 181, 7728, 1116, 1111, 1103, 2072, 2523, 2543, 4366, 1110, 1103, 172, 17442, 8005, 22050, 3545, 3665, 1439, 1103, 2928, 1104, 1126, 3928, 1344, 1278, 138, 6005, 2386, 1142, 1105, 5622, 1149, 1141, 1104, 21372, 24877, 1116, 5098, 6276, 2441, 1176, 1305, 21372, 24877, 1116, 3487, 3309, 9146, 1116, 22157, 2069, 2428, 102], 'token_type_ids': [0, 0, 0, 0, 0, 0, 0, 0, 0, 0, 0, 0, 0, 0, 0, 0, 0, 0, 0, 0, 0, 0, 0, 0, 0, 0, 0, 0, 0, 0, 0, 0, 0, 0, 0, 0, 0, 0, 0, 0, 0, 0, 0, 0, 0, 0, 0, 0, 0, 0, 0, 0, 0, 0, 0, 0, 0, 0, 0, 0, 0, 0, 0, 0, 0, 0, 0, 0, 0, 0, 0, 0, 0, 0, 0, 0, 0, 0, 0, 0, 0, 0, 0, 0, 0, 0, 0, 0, 0, 0, 0, 0, 0, 0, 0, 0, 0, 0, 0, 0, 0, 0, 0, 0, 0, 0, 0, 0, 0, 0, 0, 0, 0, 0, 0, 0, 0, 0, 0, 0, 0, 0, 0, 0, 0, 0, 0, 0, 0, 0, 0, 0, 0, 0, 0, 0, 0], 'attention_mask': [1, 1, 1, 1, 1, 1, 1, 1, 1, 1, 1, 1, 1, 1, 1, 1, 1, 1, 1, 1, 1, 1, 1, 1, 1, 1, 1, 1, 1, 1, 1, 1, 1, 1, 1, 1, 1, 1, 1, 1, 1, 1, 1, 1, 1, 1, 1, 1, 1, 1, 1, 1, 1, 1, 1, 1, 1, 1, 1, 1, 1, 1, 1, 1, 1, 1, 1, 1, 1, 1, 1, 1, 1, 1, 1, 1, 1, 1, 1, 1, 1, 1, 1, 1, 1, 1, 1, 1, 1, 1, 1, 1, 1, 1, 1, 1, 1, 1, 1, 1, 1, 1, 1, 1, 1, 1, 1, 1, 1, 1, 1, 1, 1, 1, 1, 1, 1, 1, 1, 1, 1, 1, 1, 1, 1, 1, 1, 1, 1, 1, 1, 1, 1, 1, 1, 1, 1]}\n"
     ]
    }
   ],
   "source": [
    "sentence = \"Stereotypical send up of slasher flicks falls far short as supposed entertainment Gerrit Graham Michael Lerner Zane Busby and in fact the entire cast are totally wasted Lame jokes abound and every punch line is well telegraphed The dumb one liners come at a fast pace and almost every one falls flat as a squashed grape The musical numbers only contribute to the boredom that sets in and lingers for the entire movie Another negative is the claustrophobic setting entirely within the walls of an abandoned high school Avoid this and seek out one of Lampoons truly funny films like National Lampoons Golddiggers  MERK\"\n",
    "encoded_input = tokenizer(sentence)\n",
    "print(encoded_input)"
   ]
  },
  {
   "cell_type": "code",
   "execution_count": null,
   "metadata": {},
   "outputs": [],
   "source": []
  }
 ],
 "metadata": {
  "kernelspec": {
   "display_name": "Python 3",
   "language": "python",
   "name": "python3"
  },
  "language_info": {
   "codemirror_mode": {
    "name": "ipython",
    "version": 3
   },
   "file_extension": ".py",
   "mimetype": "text/x-python",
   "name": "python",
   "nbconvert_exporter": "python",
   "pygments_lexer": "ipython3",
   "version": "3.10.13"
  }
 },
 "nbformat": 4,
 "nbformat_minor": 2
}
